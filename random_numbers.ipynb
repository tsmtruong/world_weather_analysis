{
 "cells": [
  {
   "cell_type": "code",
   "execution_count": 1,
   "id": "0d363fac",
   "metadata": {},
   "outputs": [],
   "source": [
    "# import the random module\n",
    "\n",
    "import random"
   ]
  },
  {
   "cell_type": "code",
   "execution_count": 2,
   "id": "0577b957",
   "metadata": {},
   "outputs": [
    {
     "data": {
      "text/plain": [
       "80"
      ]
     },
     "execution_count": 2,
     "metadata": {},
     "output_type": "execute_result"
    }
   ],
   "source": [
    "random.randint(-90,90)"
   ]
  },
  {
   "cell_type": "code",
   "execution_count": 3,
   "id": "704f03dc",
   "metadata": {},
   "outputs": [
    {
     "data": {
      "text/plain": [
       "0.3453762431368713"
      ]
     },
     "execution_count": 3,
     "metadata": {},
     "output_type": "execute_result"
    }
   ],
   "source": [
    "random.random()"
   ]
  },
  {
   "cell_type": "code",
   "execution_count": 5,
   "id": "94a4dd9a",
   "metadata": {},
   "outputs": [
    {
     "data": {
      "text/plain": [
       "80.17493759726327"
      ]
     },
     "execution_count": 5,
     "metadata": {},
     "output_type": "execute_result"
    }
   ],
   "source": [
    "random_number = random.randint(-90, 89) + random.random()\n",
    "\n",
    "random_number"
   ]
  },
  {
   "cell_type": "code",
   "execution_count": 8,
   "id": "aae21add",
   "metadata": {},
   "outputs": [
    {
     "data": {
      "text/plain": [
       "[-47.348909306276035,\n",
       " -71.64816288216046,\n",
       " -2.9606642290980556,\n",
       " 10.456221249835215,\n",
       " 83.90485256232746,\n",
       " 28.02077999561185,\n",
       " 18.15929573795778,\n",
       " -52.86942009897791,\n",
       " -62.93305944823935,\n",
       " -44.03990325941666]"
      ]
     },
     "execution_count": 8,
     "metadata": {},
     "output_type": "execute_result"
    }
   ],
   "source": [
    "x = 1\n",
    "\n",
    "latitudes = []\n",
    "\n",
    "while x < 11:\n",
    "    \n",
    "    random_lat = random.randint(-90, 89) + random.random()\n",
    "    \n",
    "    latitudes.append(random_lat)\n",
    "    \n",
    "    x += 1\n",
    "    \n",
    "latitudes"
   ]
  },
  {
   "cell_type": "code",
   "execution_count": 9,
   "id": "94ef61a3",
   "metadata": {},
   "outputs": [
    {
     "data": {
      "text/plain": [
       "35"
      ]
     },
     "execution_count": 9,
     "metadata": {},
     "output_type": "execute_result"
    }
   ],
   "source": [
    "random.randrange(-90, 90, step=1)"
   ]
  },
  {
   "cell_type": "code",
   "execution_count": 10,
   "id": "b2ae68a3",
   "metadata": {},
   "outputs": [
    {
     "data": {
      "text/plain": [
       "-54"
      ]
     },
     "execution_count": 10,
     "metadata": {},
     "output_type": "execute_result"
    }
   ],
   "source": [
    "random.randrange(-90,90, step=3)"
   ]
  },
  {
   "cell_type": "code",
   "execution_count": 11,
   "id": "cedd66d9",
   "metadata": {},
   "outputs": [
    {
     "data": {
      "text/plain": [
       "80.66471035007004"
      ]
     },
     "execution_count": 11,
     "metadata": {},
     "output_type": "execute_result"
    }
   ],
   "source": [
    "random.uniform(-90,90)"
   ]
  },
  {
   "cell_type": "code",
   "execution_count": 12,
   "id": "27084ae8",
   "metadata": {},
   "outputs": [],
   "source": [
    "# import the numpy module\n",
    "\n",
    "import numpy as np"
   ]
  },
  {
   "cell_type": "code",
   "execution_count": 13,
   "id": "2d0599a8",
   "metadata": {},
   "outputs": [
    {
     "data": {
      "text/plain": [
       "20.389341184801495"
      ]
     },
     "execution_count": 13,
     "metadata": {},
     "output_type": "execute_result"
    }
   ],
   "source": [
    "np.random.uniform(-90.000,90.000)"
   ]
  },
  {
   "cell_type": "code",
   "execution_count": 14,
   "id": "91a1a950",
   "metadata": {},
   "outputs": [
    {
     "data": {
      "text/plain": [
       "array([  5.39128888,  62.96362473, -89.78045999, -19.52467348,\n",
       "       -41.58342205,  36.21013981,  55.26629587,  -4.50876171,\n",
       "        75.73841147,  66.62392194, -80.67475472, -25.49859482,\n",
       "        30.58088816,  65.93474669, -41.47300434,  87.10882993,\n",
       "        82.47897156, -76.97010434,  -3.19118973, -15.46816505,\n",
       "       -16.47385559, -35.90366477,  80.83118017,  14.13175487,\n",
       "       -25.93016911,  30.32251205, -21.41768342,  25.72071527,\n",
       "        -9.25557042,  79.37762389,  69.19872733,  22.34489629,\n",
       "       -59.46277578, -21.0747993 ,  58.12786093,  -6.12132093,\n",
       "       -60.89473538,  -3.57453535,  37.89194284,  86.80437183,\n",
       "       -76.86693841,  65.47563263,  46.4722291 ,  27.56841051,\n",
       "        46.18598565,  44.6152138 , -84.62976515, -68.67744124,\n",
       "        17.91624631, -75.67562393])"
      ]
     },
     "execution_count": 14,
     "metadata": {},
     "output_type": "execute_result"
    }
   ],
   "source": [
    "np.random.uniform(-90.000,90.000, size=50)"
   ]
  },
  {
   "cell_type": "code",
   "execution_count": 15,
   "id": "ced0b8d7",
   "metadata": {},
   "outputs": [],
   "source": [
    "# import timeit\n",
    "\n",
    "import timeit"
   ]
  },
  {
   "cell_type": "code",
   "execution_count": 16,
   "id": "2529e0cb",
   "metadata": {},
   "outputs": [
    {
     "name": "stdout",
     "output_type": "stream",
     "text": [
      "15.1 µs ± 33.1 ns per loop (mean ± std. dev. of 7 runs, 100,000 loops each)\n"
     ]
    }
   ],
   "source": [
    "%timeit np.random.uniform(-90.000, 90.000, size=1500)"
   ]
  },
  {
   "cell_type": "code",
   "execution_count": 18,
   "id": "f3cd3ec6",
   "metadata": {},
   "outputs": [
    {
     "name": "stdout",
     "output_type": "stream",
     "text": [
      "1.53 ms ± 13.8 µs per loop (mean ± std. dev. of 7 runs, 1,000 loops each)\n"
     ]
    }
   ],
   "source": [
    "def latitudes(size):\n",
    "    \n",
    "    latitudes = []\n",
    "    \n",
    "    x = 0\n",
    "    \n",
    "    while x < (size):\n",
    "        \n",
    "        random_lat = random.randint(-90, 90) + random.random()\n",
    "        \n",
    "        latitudes.append(random_lat)\n",
    "        \n",
    "        x += 1\n",
    "    \n",
    "    return latitudes\n",
    "\n",
    "\n",
    "# call the function with 1500\n",
    "\n",
    "%timeit latitudes(1500)"
   ]
  },
  {
   "cell_type": "code",
   "execution_count": null,
   "id": "880b16bf",
   "metadata": {},
   "outputs": [],
   "source": []
  },
  {
   "cell_type": "code",
   "execution_count": null,
   "id": "559324c3",
   "metadata": {},
   "outputs": [],
   "source": []
  }
 ],
 "metadata": {
  "kernelspec": {
   "display_name": "python_data",
   "language": "python",
   "name": "python_data"
  },
  "language_info": {
   "codemirror_mode": {
    "name": "ipython",
    "version": 3
   },
   "file_extension": ".py",
   "mimetype": "text/x-python",
   "name": "python",
   "nbconvert_exporter": "python",
   "pygments_lexer": "ipython3",
   "version": "3.9.12"
  }
 },
 "nbformat": 4,
 "nbformat_minor": 5
}
